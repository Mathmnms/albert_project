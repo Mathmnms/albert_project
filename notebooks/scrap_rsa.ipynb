{
 "cells": [
  {
   "cell_type": "code",
   "execution_count": 2,
   "metadata": {},
   "outputs": [],
   "source": [
    "from selenium import webdriver\n",
    "from selenium.webdriver.common.by import By\n",
    "from selenium.webdriver.common.keys import Keys\n",
    "import time\n",
    "import pandas as pd"
   ]
  },
  {
   "cell_type": "code",
   "execution_count": 25,
   "metadata": {},
   "outputs": [],
   "source": [
    "driver = webdriver.Chrome()"
   ]
  },
  {
   "cell_type": "code",
   "execution_count": 26,
   "metadata": {},
   "outputs": [],
   "source": [
    "driver.get(\"https://explore.data.gouv.fr/fr/tableau?url=https%3A%2F%2Fwww.data.gouv.fr%2Ffr%2Fdatasets%2Fr%2Ff952e52f-6888-4194-9a31-47a4c1cafb8e\")"
   ]
  },
  {
   "cell_type": "code",
   "execution_count": 27,
   "metadata": {},
   "outputs": [],
   "source": [
    "y = driver.find_elements(By.TAG_NAME,'td')"
   ]
  },
  {
   "cell_type": "code",
   "execution_count": 3,
   "metadata": {},
   "outputs": [],
   "source": [
    "colonnes = ['Communes', 'Codes_Insee', 'Numéro_département', 'DTREF', 'NB_allocataires', 'Dont_RSA_jeune', 'NB_allocataire_RSA', 'RSA_majore', 'RSA_non_Majore', 'Dont_RSA_jeune', 'Montant_RSA_versable', \"NB_Pers_par_Foyer_Alloc\", \"NB_Pers_couv_RSA\", \"RSA_SOCLE_non_Majore_Pers_couv\", \"RSA_SOCLE_Majore_Pers_couv\"]\n",
    "df = pd.DataFrame(columns=colonnes)"
   ]
  },
  {
   "cell_type": "code",
   "execution_count": 4,
   "metadata": {},
   "outputs": [
    {
     "data": {
      "text/html": [
       "<div>\n",
       "<style scoped>\n",
       "    .dataframe tbody tr th:only-of-type {\n",
       "        vertical-align: middle;\n",
       "    }\n",
       "\n",
       "    .dataframe tbody tr th {\n",
       "        vertical-align: top;\n",
       "    }\n",
       "\n",
       "    .dataframe thead th {\n",
       "        text-align: right;\n",
       "    }\n",
       "</style>\n",
       "<table border=\"1\" class=\"dataframe\">\n",
       "  <thead>\n",
       "    <tr style=\"text-align: right;\">\n",
       "      <th></th>\n",
       "      <th>Communes</th>\n",
       "      <th>Codes_Insee</th>\n",
       "      <th>Numéro_département</th>\n",
       "      <th>DTREF</th>\n",
       "      <th>NB_allocataires</th>\n",
       "      <th>Dont_RSA_jeune</th>\n",
       "      <th>NB_allocataire_RSA</th>\n",
       "      <th>RSA_majore</th>\n",
       "      <th>RSA_non_Majore</th>\n",
       "      <th>Dont_RSA_jeune</th>\n",
       "      <th>Montant_RSA_versable</th>\n",
       "      <th>NB_Pers_par_Foyer_Alloc</th>\n",
       "      <th>NB_Pers_couv_RSA</th>\n",
       "      <th>RSA_SOCLE_non_Majore_Pers_couv</th>\n",
       "      <th>RSA_SOCLE_Majore_Pers_couv</th>\n",
       "    </tr>\n",
       "  </thead>\n",
       "  <tbody>\n",
       "  </tbody>\n",
       "</table>\n",
       "</div>"
      ],
      "text/plain": [
       "Empty DataFrame\n",
       "Columns: [Communes, Codes_Insee, Numéro_département, DTREF, NB_allocataires, Dont_RSA_jeune, NB_allocataire_RSA, RSA_majore, RSA_non_Majore, Dont_RSA_jeune, Montant_RSA_versable, NB_Pers_par_Foyer_Alloc, NB_Pers_couv_RSA, RSA_SOCLE_non_Majore_Pers_couv, RSA_SOCLE_Majore_Pers_couv]\n",
       "Index: []"
      ]
     },
     "execution_count": 4,
     "metadata": {},
     "output_type": "execute_result"
    }
   ],
   "source": [
    "df"
   ]
  },
  {
   "cell_type": "code",
   "execution_count": null,
   "metadata": {},
   "outputs": [],
   "source": [
    "step = 6\n",
    "for loop in range(210000):\n",
    "    try:\n",
    "        liste = []\n",
    "        liste.append(y[step].text)\n",
    "        liste.append(y[step+1].text)\n",
    "        liste.append(y[step+2].text)\n",
    "        liste.append(y[step+3].text)\n",
    "        liste.append(y[step+4].text)\n",
    "        liste.append(y[step+5].text)\n",
    "        liste.append(y[step+6].text)\n",
    "        liste.append(y[step+7].text)\n",
    "        liste.append(y[step+8].text)\n",
    "        liste.append(y[step+9].text)\n",
    "        liste.append(y[step+10].text)\n",
    "        liste.append(y[step+11].text)\n",
    "        liste.append(y[step+12].text)\n",
    "        liste.append(y[step+13].text)\n",
    "        liste.append(y[step+14].text)\n",
    "        liste.append(y[step+15].text)\n",
    "        df = df.append(pd.Series(liste, index=df.columns), ignore_index=True)\n",
    "        driver.execute_script(\"window.scrollBy(0, 400);\")\n",
    "    except:\n",
    "        pass\n",
    "    step += 15"
   ]
  },
  {
   "cell_type": "code",
   "execution_count": null,
   "metadata": {},
   "outputs": [],
   "source": [
    "df.to_csv('rsa.csv', index=False, sep=\";\")"
   ]
  }
 ],
 "metadata": {
  "kernelspec": {
   "display_name": "Python 3",
   "language": "python",
   "name": "python3"
  },
  "language_info": {
   "codemirror_mode": {
    "name": "ipython",
    "version": 3
   },
   "file_extension": ".py",
   "mimetype": "text/x-python",
   "name": "python",
   "nbconvert_exporter": "python",
   "pygments_lexer": "ipython3",
   "version": "3.9.12"
  },
  "orig_nbformat": 4,
  "vscode": {
   "interpreter": {
    "hash": "21f7673f36920794a23d967940019a3216ee600a9830756ae9ea43be8d2e35af"
   }
  }
 },
 "nbformat": 4,
 "nbformat_minor": 2
}
